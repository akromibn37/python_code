{
 "cells": [
  {
   "cell_type": "code",
   "execution_count": null,
   "metadata": {},
   "outputs": [],
   "source": [
    "f1 = open(\"file1.txt\")\n",
    "sa = set()\n",
    "for line in f1:\n",
    "    line = line.replace('\"', ' ') \\\n",
    "                  .replace('\"', ' ') \\\n",
    "                  .replace(\"-\", ' ') \\\n",
    "                  .replace(\".\", ' ') \\\n",
    "                  .replace(\"(\", ' ') \\\n",
    "                  .replace(\")\", ' ') \\\n",
    "                  .replace(\",\", ' ')\n",
    "    sa.update(line.lower().split())\n",
    "f2 = open(\"file2.txt\")\n",
    "sb = set()\n",
    "for line in f2:\n",
    "    line = line.replace('\"', ' ') \\\n",
    "                  .replace('\"', ' ') \\\n",
    "                  .replace(\"-\", ' ') \\\n",
    "                  .replace(\".\", ' ') \\\n",
    "                  .replace(\"(\", ' ') \\\n",
    "                  .replace(\")\", ' ') \\\n",
    "                  .replace(\",\", ' ')\n",
    "    sb.update(line.lower().split())\n",
    "w = input().strip()\n",
    "if w in (sa&sb):\n",
    "    print('Found in both files')\n",
    "elif w in sa:\n",
    "    print('Found in file1 only')\n",
    "elif w in sb:\n",
    "    print('Found in file2 only')\n",
    "else:\n",
    "    print('Not found')\n"
   ]
  },
  {
   "cell_type": "code",
   "execution_count": null,
   "metadata": {
    "collapsed": true
   },
   "outputs": [],
   "source": [
    "pyhton"
   ]
  }
 ],
 "metadata": {
  "kernelspec": {
   "display_name": "Python 3",
   "language": "python",
   "name": "python3"
  },
  "language_info": {
   "codemirror_mode": {
    "name": "ipython",
    "version": 3
   },
   "file_extension": ".py",
   "mimetype": "text/x-python",
   "name": "python",
   "nbconvert_exporter": "python",
   "pygments_lexer": "ipython3",
   "version": "3.6.1"
  }
 },
 "nbformat": 4,
 "nbformat_minor": 2
}
